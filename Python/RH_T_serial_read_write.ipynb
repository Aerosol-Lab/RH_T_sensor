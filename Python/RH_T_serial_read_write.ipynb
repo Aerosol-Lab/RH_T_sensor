{
 "cells": [
  {
   "cell_type": "code",
   "execution_count": 1,
   "id": "00bbb5aa",
   "metadata": {},
   "outputs": [],
   "source": [
    "import threading\n",
    "import serial\n",
    "import tkinter as tk\n",
    "from datetime import datetime\n",
    "import numpy as np"
   ]
  },
  {
   "cell_type": "code",
   "execution_count": 2,
   "id": "05a74d4f",
   "metadata": {},
   "outputs": [],
   "source": [
    "# Create an output folder (here OUTPUT-FOLDER) and adapt this directory\n",
    "directory = \"C:/Users/User/Dropbox/OUTPUT-FOLDER\""
   ]
  },
  {
   "cell_type": "code",
   "execution_count": 3,
   "id": "2d64ac61",
   "metadata": {},
   "outputs": [],
   "source": [
    "reading_Arduino = True\n",
    "lines_per_file = 100\n",
    "file_name = \"RH_temp_records_\"\n",
    "\n",
    "# Adapt the COM where Arduino board is connected\n",
    "ser = serial.Serial('COM4', 9600, timeout=1)"
   ]
  },
  {
   "cell_type": "code",
   "execution_count": 4,
   "id": "9a87c0c6",
   "metadata": {},
   "outputs": [],
   "source": [
    "class MyGUI:\n",
    "    def __init__(self):\n",
    "        self.root = tk.Tk()\n",
    "        self.create_window()\n",
    "        self.add_widgets()\n",
    "        self.text_box = tk.Text(self.root, height = 2, width = 850)\n",
    "        self.text_box.pack()\n",
    "        return\n",
    "    def create_window(self):\n",
    "        self.root.geometry(\"900x100\")\n",
    "        self.root.title(\"RH and T monitoring\")\n",
    "        self.root.configure(background='white')\n",
    "        return\n",
    "    def Read_Arduino_line(self):\n",
    "        line =  ser.readline()\n",
    "        string = line.decode(\"utf-8\")\n",
    "        arduino_line = string.strip()\n",
    "        now = datetime.now()\n",
    "        now_str = now.strftime(\"%m/%d, %H:%M:%S\")\n",
    "        self.Print_text(now_str+\" \"+arduino_line)\n",
    "        arduino_line = str(now)+\" --> \"+arduino_line\n",
    "        return arduino_line\n",
    "\n",
    "    def Arduino2txt(self,array_lines,file):\n",
    "        for line in array_lines:\n",
    "            with open(file, 'a') as the_file:\n",
    "                the_file.write(line+'\\n')\n",
    "        return\n",
    "    def Print_text(self,text=\" \"):\n",
    "        self.text_box.delete(\"1.0\",\"end\")\n",
    "        self.text_box.insert(tk.END, text)\n",
    "        return\n",
    "    def on_closing(self):\n",
    "        if(tk.messagebox.askyesno(title=\"Quit?\", message=\"Confirm quit?\")):\n",
    "            self.root.destroy()\n",
    "        return\n",
    "    def Get_file_index(self,counter):\n",
    "        f = str(datetime.now())\n",
    "        file_index = f.split(\" \")[0]\n",
    "        return file_index+str(counter)\n",
    "    def Thread_monitor(self):\n",
    "        t1 = threading.Thread(target=self.Monitor_RH)\n",
    "        t1.start()\n",
    "        return\n",
    "    def add_widgets(self):\n",
    "        button = tk.Button(self.root, text=\"START Monitoring\" ,\n",
    "                           font=(\"Arial\",18),\n",
    "                           command=self.Thread_monitor,\n",
    "                           bg='white')\n",
    "        button.pack(padx=10,pady=10)\n",
    "    def Monitor_RH(self):\n",
    "        counter = 0\n",
    "        i = 0\n",
    "        file_index = self.Get_file_index(counter)\n",
    "        array_lines = []\n",
    "        while(reading_Arduino):\n",
    "            i = i+1\n",
    "            read_line = self.Read_Arduino_line()\n",
    "            array_lines = np.append(array_lines, read_line)\n",
    "            if(i > lines_per_file):\n",
    "                self.Arduino2txt(array_lines, directory+'/'+file_name+file_index+'.txt')\n",
    "                i = 0\n",
    "                file_index = self.Get_file_index(counter)\n",
    "                counter = counter +1\n",
    "                array_lines = []"
   ]
  },
  {
   "cell_type": "code",
   "execution_count": null,
   "id": "70d9afd7",
   "metadata": {},
   "outputs": [],
   "source": [
    "app = MyGUI()\n",
    "app.root.mainloop()"
   ]
  },
  {
   "cell_type": "code",
   "execution_count": null,
   "id": "4b3aff58",
   "metadata": {},
   "outputs": [],
   "source": []
  }
 ],
 "metadata": {
  "kernelspec": {
   "display_name": "Python 3 (ipykernel)",
   "language": "python",
   "name": "python3"
  },
  "language_info": {
   "codemirror_mode": {
    "name": "ipython",
    "version": 3
   },
   "file_extension": ".py",
   "mimetype": "text/x-python",
   "name": "python",
   "nbconvert_exporter": "python",
   "pygments_lexer": "ipython3",
   "version": "3.10.6"
  }
 },
 "nbformat": 4,
 "nbformat_minor": 5
}
